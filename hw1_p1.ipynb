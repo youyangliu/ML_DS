{
 "cells": [
  {
   "cell_type": "code",
   "execution_count": 366,
   "metadata": {
    "collapsed": true
   },
   "outputs": [],
   "source": [
    "import matplotlib\n",
    "import matplotlib.pyplot as plt\n",
    "%matplotlib inline\n",
    "import numpy as np\n",
    "import pandas as pd\n",
    "from matplotlib import cm\n",
    "from scipy.io import loadmat\n",
    "import random "
   ]
  },
  {
   "cell_type": "code",
   "execution_count": 367,
   "metadata": {
    "scrolled": true
   },
   "outputs": [],
   "source": [
    "# ---------------------------------load the data--------------------------------------\n",
    "ocr = loadmat('ocr.mat')\n",
    "n_list = [1000, 2000, 4000, 8000]\n",
    "\n",
    "test_data = ocr['testdata'].astype('float')\n",
    "test_labels = ocr['testlabels'].astype('float')"
   ]
  },
  {
   "cell_type": "code",
   "execution_count": 368,
   "metadata": {
    "collapsed": true
   },
   "outputs": [],
   "source": [
    "# ---------build function for predicting, calculating error rate, and repeating---------\n",
    "def prediction(traindata, trainlabel, testdata):\n",
    "    '''\n",
    "\n",
    "    :param traindata: np.array, the feature data of train vector\n",
    "    :param trainlabel: np.array, the label data of train vector\n",
    "    :param testdata: np.array, the feature data of test vector\n",
    "    :return: np.array, a prediction array for each test vector\n",
    "    '''\n",
    "\n",
    "    def find_index(train, test):\n",
    "        # calculate the norm of each train vector\n",
    "        test_2 = np.linalg.norm(test, axis=1) ** 2\n",
    "        test_2.resize(len(test_2), 1)\n",
    "        # calculate the norm of each test vector\n",
    "        train_2 = np.linalg.norm(train, axis=1) ** 2\n",
    "        train_2.resize(len(train_2), 1)\n",
    "        # calculate x_i^Tt_j\n",
    "        train_test = np.dot(train, test.T)\n",
    "        # (i,j) in distance_matrix is the distance between x_i and t_j\n",
    "        distance_matrix = train_2 - 2 * train_test + test_2.T\n",
    "        # find the smallest value's index of each column\n",
    "        index = np.argmin(distance_matrix, axis=0)\n",
    "        return index\n",
    "\n",
    "    pred = trainlabel[find_index(traindata, testdata)]\n",
    "    return pred\n"
   ]
  },
  {
   "cell_type": "code",
   "execution_count": 369,
   "metadata": {
    "collapsed": true
   },
   "outputs": [],
   "source": [
    "def exam(sample_size, test=None, testlabel=None):\n",
    "    '''\n",
    "\n",
    "    :param sample_size: int, the value of n(sample size of the traindata)\n",
    "    :param test: np.array, the feature data of test vector.\n",
    "           Notice: If there is no test input, it will be set to train\n",
    "    :param testlabel: np.array, the labels data of test vector\n",
    "           Notice: If there is no testlabel input, it will be set to trainlabel\n",
    "    :return: float, the error rate of prediction func on testlabel\n",
    "    '''\n",
    "    # load data\n",
    "    sel = random.sample(range(60000), sample_size)\n",
    "    train = ocr['data'][sel].astype('float')\n",
    "    train_label = ocr['labels'][sel]\n",
    "    # when there is no test data, use train data as test data\n",
    "    if test is None:\n",
    "        test = train\n",
    "    if testlabel is None:\n",
    "        testlabel = train_label\n",
    "\n",
    "    # predict on test data\n",
    "    pred = prediction(train, train_label, test)\n",
    "\n",
    "    # calculate error rate on test data\n",
    "    t = [1 for i in range(len(pred)) if not pred[i] == testlabel[i]]\n",
    "\n",
    "    error_rate = sum(t) / len(testlabel)\n",
    "\n",
    "    return error_rate"
   ]
  },
  {
   "cell_type": "code",
   "execution_count": 370,
   "metadata": {},
   "outputs": [],
   "source": [
    "def repeat(samplesize, testdata=None, testlabel=None, times=10):\n",
    "    '''\n",
    "\n",
    "    :param times: int, repeat times of the model(exam func)\n",
    "    :param samplesize: int, the value of n(sample size of the traindata)\n",
    "    :param testdata:  np.array, the feature data of test vector.\n",
    "           Notice: If there is no testdata input, it will be set to traindata\n",
    "    :param testlabel: np.array, the labels data of test vector\n",
    "           Notice: If there is no testlabel input, it will be set to trainlabel\n",
    "    :return: np.array,  test error rate of each prediction\n",
    "    '''\n",
    "    # ger the error rate list of each prediction\n",
    "    if times <= 0:\n",
    "        return 'time should be positive int'\n",
    "    err = np.array([])\n",
    "    for i in range(times):\n",
    "        err = np.append(err, exam(samplesize, testdata, testlabel))\n",
    "\n",
    "    return err"
   ]
  },
  {
   "cell_type": "code",
   "execution_count": 371,
   "metadata": {},
   "outputs": [],
   "source": [
    "# ----------------------------start to run our model----------------------------------\n",
    "# get the result of each prediction, stored as dict\n",
    "train_result = {n: repeat(n) for n in n_list}\n",
    "test_result = {n: repeat(n, test_data, test_labels) for n in n_list}\n",
    "\n",
    "# calculate the average mean of each n's error rate\n",
    "train_n_mean = [np.mean(train_result[n]) for n in n_list]\n",
    "test_n_mean = [np.mean(test_result[n]) for n in n_list]\n",
    "\n",
    "# calculate the standard deviation of each n's error rate\n",
    "train_n_std = [np.std(train_result[n]) for n in n_list]\n",
    "test_n_std = [np.std(test_result[n]) for n in n_list]\n"
   ]
  },
  {
   "cell_type": "code",
   "execution_count": 372,
   "metadata": {},
   "outputs": [
    {
     "data": {
      "image/png": "[encoded data removed]",
      "text/plain": [
       "<matplotlib.figure.Figure at 0x10bd4a128>"
      ]
     },
     "metadata": {},
     "output_type": "display_data"
    }
   ],
   "source": [
    "# --------------------------start to plot learning curve------------------------------\n",
    "# plot for test data\n",
    "fig_test = plt.figure(figsize=(10, 5))\n",
    "ax_test = fig_test.add_subplot(111)\n",
    "ax_test.plot(n_list, test_n_mean)\n",
    "ax_test.errorbar(n_list, test_n_mean, yerr=test_n_std)\n",
    "ax_test.set_xlabel('n')\n",
    "ax_test.set_ylabel('test error rate')\n",
    "ax_test.set_title('learning curve on testdata')\n",
    "# fig_test.savefig('learning_curve_test.png')\n",
    "plt.show()"
   ]
  },
  {
   "cell_type": "code",
   "execution_count": 374,
   "metadata": {
    "scrolled": true
   },
   "outputs": [
    {
     "data": {
      "image/png": "[encoded data removed]",
      "text/plain": [
       "<matplotlib.figure.Figure at 0x109a92710>"
      ]
     },
     "metadata": {},
     "output_type": "display_data"
    }
   ],
   "source": [
    "# plot for train data\n",
    "fig_train = plt.figure(figsize=(10, 5))\n",
    "ax_train = fig_train.add_subplot(111)\n",
    "ax_train.plot(n_list, train_n_mean)\n",
    "ax_train.errorbar(n_list, train_n_mean, yerr=train_n_std)\n",
    "ax_train.set_xlabel('n')\n",
    "ax_train.set_ylabel('train error rate')\n",
    "ax_train.set_title('learning curve on traindata')\n",
    "# fig_train.savefig('learning_curve_train.png')\n",
    "plt.show()"
   ]
  },
  {
   "cell_type": "code",
   "execution_count": 375,
   "metadata": {},
   "outputs": [
    {
     "data": {
      "text/plain": [
       "{1000: array([ 0.,  0.,  0.,  0.,  0.,  0.,  0.,  0.,  0.,  0.]),\n",
       " 2000: array([ 0.,  0.,  0.,  0.,  0.,  0.,  0.,  0.,  0.,  0.]),\n",
       " 4000: array([ 0.,  0.,  0.,  0.,  0.,  0.,  0.,  0.,  0.,  0.]),\n",
       " 8000: array([ 0.,  0.,  0.,  0.,  0.,  0.,  0.,  0.,  0.,  0.])}"
      ]
     },
     "execution_count": 375,
     "metadata": {},
     "output_type": "execute_result"
    }
   ],
   "source": [
    "train_result"
   ]
  },
  {
   "cell_type": "code",
   "execution_count": 376,
   "metadata": {},
   "outputs": [
    {
     "data": {
      "text/plain": [
       "{1000: array([ 0.1202,  0.1182,  0.1188,  0.1154,  0.1146,  0.1176,  0.1226,\n",
       "         0.116 ,  0.1165,  0.1115]),\n",
       " 2000: array([ 0.0841,  0.088 ,  0.0878,  0.088 ,  0.0855,  0.0888,  0.0921,\n",
       "         0.0827,  0.0925,  0.0919]),\n",
       " 4000: array([ 0.07  ,  0.0694,  0.0699,  0.0668,  0.0708,  0.0738,  0.0683,\n",
       "         0.0716,  0.0684,  0.0695]),\n",
       " 8000: array([ 0.0537,  0.0565,  0.0551,  0.0551,  0.0521,  0.0536,  0.0569,\n",
       "         0.0527,  0.0553,  0.0586])}"
      ]
     },
     "execution_count": 376,
     "metadata": {},
     "output_type": "execute_result"
    }
   ],
   "source": [
    "test_result"
   ]
  },
  {
   "cell_type": "code",
   "execution_count": 378,
   "metadata": {},
   "outputs": [
    {
     "data": {
      "text/plain": [
       "[0.0, 0.0, 0.0, 0.0]"
      ]
     },
     "execution_count": 378,
     "metadata": {},
     "output_type": "execute_result"
    }
   ],
   "source": [
    "train_n_mean"
   ]
  },
  {
   "cell_type": "code",
   "execution_count": 379,
   "metadata": {},
   "outputs": [
    {
     "data": {
      "text/plain": [
       "[0.11713999999999999,\n",
       " 0.08814000000000001,\n",
       " 0.069849999999999995,\n",
       " 0.054959999999999995]"
      ]
     },
     "execution_count": 379,
     "metadata": {},
     "output_type": "execute_result"
    }
   ],
   "source": [
    "test_n_mean"
   ]
  },
  {
   "cell_type": "code",
   "execution_count": 380,
   "metadata": {},
   "outputs": [
    {
     "data": {
      "text/plain": [
       "[0.0, 0.0, 0.0, 0.0]"
      ]
     },
     "execution_count": 380,
     "metadata": {},
     "output_type": "execute_result"
    }
   ],
   "source": [
    "train_n_std"
   ]
  },
  {
   "cell_type": "code",
   "execution_count": 382,
   "metadata": {},
   "outputs": [
    {
     "data": {
      "text/plain": [
       "[0.0029370733732748317,\n",
       " 0.0031984996482726088,\n",
       " 0.0018364367672206966,\n",
       " 0.0019043108989868229]"
      ]
     },
     "execution_count": 382,
     "metadata": {},
     "output_type": "execute_result"
    }
   ],
   "source": [
    "test_n_std"
   ]
  },
  {
   "cell_type": "code",
   "execution_count": null,
   "metadata": {
    "collapsed": true
   },
   "outputs": [],
   "source": []
  }
 ],
 "metadata": {
  "kernelspec": {
   "display_name": "Python 3",
   "language": "python",
   "name": "python3"
  },
  "language_info": {
   "codemirror_mode": {
    "name": "ipython",
    "version": 3
   },
   "file_extension": ".py",
   "mimetype": "text/x-python",
   "name": "python",
   "nbconvert_exporter": "python",
   "pygments_lexer": "ipython3",
   "version": "3.6.2"
  }
 },
 "nbformat": 4,
 "nbformat_minor": 2
}
