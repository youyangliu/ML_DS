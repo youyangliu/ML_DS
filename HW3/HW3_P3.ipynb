{
 "cells": [
  {
   "cell_type": "markdown",
   "metadata": {},
   "source": [
    "# Problem 3"
   ]
  },
  {
   "cell_type": "markdown",
   "metadata": {},
   "source": [
    "## Part (b) "
   ]
  },
  {
   "cell_type": "code",
   "execution_count": 410,
   "metadata": {
    "collapsed": true
   },
   "outputs": [],
   "source": [
    "import numpy as np\n",
    "from scipy.sparse import diags\n",
    "import matplotlib.pyplot as plt\n",
    "import pandas as pd"
   ]
  },
  {
   "cell_type": "code",
   "execution_count": 411,
   "metadata": {
    "collapsed": true
   },
   "outputs": [],
   "source": [
    "from scipy.io import loadmat\n",
    "hw3 = loadmat('hw3data.mat')"
   ]
  },
  {
   "cell_type": "code",
   "execution_count": 645,
   "metadata": {
    "collapsed": true
   },
   "outputs": [],
   "source": [
    "data = hw3['data']\n",
    "labels = hw3['labels']\n",
    "\n",
    "#apply affine expansion\n",
    "intercept = np.ones((np.shape(data)[0],1))\n",
    "data = np.hstack((intercept, data))"
   ]
  },
  {
   "cell_type": "code",
   "execution_count": 716,
   "metadata": {
    "collapsed": true
   },
   "outputs": [],
   "source": [
    "#define objective funtion\n",
    "def obj(x, y, w):\n",
    "    b = 1/np.shape(x)[0] * np.sum(np.log(1+np.exp(x.dot(w)))  - y*((x.dot(w))))\n",
    "    return b"
   ]
  },
  {
   "cell_type": "code",
   "execution_count": 647,
   "metadata": {
    "collapsed": true
   },
   "outputs": [],
   "source": [
    "#define gradient function\n",
    "def grad(x,y,w):\n",
    "    a= np.exp(x.dot(w))\n",
    "    b1= (1/np.shape(x)[0]*np.sum((a/(1+a))*x-y*x,axis=0)).reshape((np.shape(w)[0],1))\n",
    "    return b1"
   ]
  },
  {
   "cell_type": "code",
   "execution_count": 787,
   "metadata": {
    "scrolled": false
   },
   "outputs": [
    {
     "name": "stdout",
     "output_type": "stream",
     "text": [
      "Number of iterations:  4658 \n",
      "Beta:  \n",
      " [[-9.57915501e-01]\n",
      " [-7.42639405e-03]\n",
      " [ 2.09527203e+00]\n",
      " [-1.12412797e-03]] \n",
      "Objective function value:  0.6506399987127174 \n",
      "\n",
      "CPU times: user 8.04 s, sys: 124 ms, total: 8.17 s\n",
      "Wall time: 4.17 s\n"
     ]
    }
   ],
   "source": [
    "#run the gradient descent algorithm on the original data\n",
    "\n",
    "#reset initial beta\n",
    "beta = np.zeros((np.shape(data)[1],1))\n",
    "\n",
    "#define stopping condition\n",
    "threshold = 0.65064\n",
    "\n",
    "l = grad(data,labels,beta)\n",
    "o = obj(data,labels,beta)\n",
    "count = 0\n",
    "\n",
    "while ( o > threshold):\n",
    "    eta=1\n",
    "    while(obj(data,labels,beta - eta*l)> (o - 1/2*eta*(np.sum(l*l)))):\n",
    "        eta = eta/2\n",
    "    \n",
    "    beta = beta - eta*l\n",
    "    l = grad(data,labels,beta)\n",
    "    o = obj(data,labels,beta)\n",
    "    count += 1\n",
    "\n",
    "print(\"Number of iterations: \", count, \"\\n\"\n",
    "      \"Beta: \", '\\n', beta, '\\n'\n",
    "      \"Objective function value: \", o, \"\\n\")\n"
   ]
  },
  {
   "cell_type": "code",
   "execution_count": 681,
   "metadata": {
    "collapsed": true
   },
   "outputs": [],
   "source": [
    "y_hat = data.dot(beta)"
   ]
  },
  {
   "cell_type": "code",
   "execution_count": 682,
   "metadata": {
    "collapsed": true
   },
   "outputs": [],
   "source": [
    "np.place(y_hat, y_hat<=0, 0)\n",
    "np.place(y_hat, y_hat>0, 1)"
   ]
  },
  {
   "cell_type": "code",
   "execution_count": 683,
   "metadata": {},
   "outputs": [
    {
     "data": {
      "text/plain": [
       "array([0.37036133])"
      ]
     },
     "execution_count": 683,
     "metadata": {},
     "output_type": "execute_result"
    }
   ],
   "source": [
    "#trainig error rate\n",
    "1-sum(y_hat == labels)/len(labels)"
   ]
  },
  {
   "cell_type": "markdown",
   "metadata": {},
   "source": [
    "# Part (c)"
   ]
  },
  {
   "cell_type": "code",
   "execution_count": 781,
   "metadata": {},
   "outputs": [
    {
     "data": {
      "image/png": "[encoded data removed]",
      "text/plain": [
       "<matplotlib.figure.Figure at 0x182c3f6320>"
      ]
     },
     "metadata": {},
     "output_type": "display_data"
    }
   ],
   "source": [
    "#observe the distributions of input features. \n",
    "#The first graph is just the distribution of intercept, therefore all 1's.\n",
    "\n",
    "fig = plt.figure(figsize=(10,2.5))\n",
    "\n",
    "for i in range(np.shape(data)[1]):\n",
    "    plt.subplot(1,4,i+1)\n",
    "    plt.hist(data[:,i])\n",
    "    plt.xlabel(i)\n",
    "    \n",
    "plt.tight_layout()\n",
    "plt.show()"
   ]
  },
  {
   "cell_type": "code",
   "execution_count": 782,
   "metadata": {
    "collapsed": true
   },
   "outputs": [],
   "source": [
    "#linear transformation scaler\n",
    "scaler = np.diag(1/data.max(axis=0))\n",
    "data_sc = data.dot(scaler)"
   ]
  },
  {
   "cell_type": "code",
   "execution_count": 754,
   "metadata": {},
   "outputs": [
    {
     "name": "stdout",
     "output_type": "stream",
     "text": [
      "Number of iterations:  377 \n",
      "Beta:  \n",
      " [[-0.95537672]\n",
      " [-0.1534398 ]\n",
      " [ 2.09978214]\n",
      " [-0.02757352]] \n",
      "Objective function value:  0.6506399857204013 \n",
      "Gradient value:  \n",
      " [[ 1.92804044e-04]\n",
      " [-9.78866902e-05]\n",
      " [-1.65559103e-04]\n",
      " [-1.04159829e-04]] \n",
      "\n",
      "CPU times: user 556 ms, sys: 11.5 ms, total: 568 ms\n",
      "Wall time: 339 ms\n"
     ]
    }
   ],
   "source": [
    "#run the gradient descent algoritm on linearly tranformed data\n",
    "\n",
    "#reset initial beta\n",
    "beta = np.zeros((np.shape(data)[1],1))\n",
    "\n",
    "#stopping condition\n",
    "threshold = 0.65064\n",
    "\n",
    "l = grad(data_sc,labels,beta)\n",
    "o = obj(data_sc,labels,beta)\n",
    "count = 0\n",
    "\n",
    "while ( o > threshold):\n",
    "    eta=1\n",
    "    while(obj(data_sc,labels,beta - eta*l)> (o - 1/2*eta*(l.transpose()[0].dot(l)))):\n",
    "        eta = eta/2\n",
    "    \n",
    "    beta = beta - eta*l\n",
    "    l = grad(data_sc,labels,beta)\n",
    "    o = obj(data_sc,labels,beta)\n",
    "    count +=1\n",
    "\n",
    "print(\"Number of iterations: \", count, \"\\n\"\n",
    "      \"Beta: \", '\\n', beta, '\\n'\n",
    "      \"Objective function value: \", o, \"\\n\"\n",
    "      \"Gradient value: \",'\\n', l, '\\n')"
   ]
  },
  {
   "cell_type": "code",
   "execution_count": 585,
   "metadata": {},
   "outputs": [
    {
     "data": {
      "text/plain": [
       "array([0.37060547])"
      ]
     },
     "execution_count": 585,
     "metadata": {},
     "output_type": "execute_result"
    }
   ],
   "source": [
    "#training error rate\n",
    "y_hat=data_sc.dot(beta)\n",
    "np.place(y_hat, y_hat<=0, 0)\n",
    "np.place(y_hat, y_hat>0, 1)\n",
    "1 - sum(y_hat == labels)/len(labels)"
   ]
  },
  {
   "cell_type": "markdown",
   "metadata": {},
   "source": [
    "# Part (d)"
   ]
  },
  {
   "cell_type": "markdown",
   "metadata": {},
   "source": [
    "### Original data"
   ]
  },
  {
   "cell_type": "code",
   "execution_count": 788,
   "metadata": {
    "collapsed": true
   },
   "outputs": [],
   "source": [
    "#split data into training and validation set using floor(0.8n) as the cutoff number.\n",
    "\n",
    "sel = int(np.floor(0.8*np.shape(data)[0]))\n",
    "x_train = data[0:sel,:]\n",
    "y_train = labels[0:sel]\n",
    "x_val = data[sel:np.shape(data)[0],:]\n",
    "y_val = labels[sel:np.shape(data)[0]]"
   ]
  },
  {
   "cell_type": "code",
   "execution_count": 796,
   "metadata": {},
   "outputs": [
    {
     "name": "stdout",
     "output_type": "stream",
     "text": [
      "Number of iterations:  512 \n",
      "Validation error rate:  [0.38292683] \n",
      "Objective function value:  0.6550696234597402 \n",
      "\n",
      "CPU times: user 1.25 s, sys: 26.4 ms, total: 1.28 s\n",
      "Wall time: 706 ms\n"
     ]
    }
   ],
   "source": [
    "#run the gradient descent algorithm on the original data using stopping condition defined by part (d).\n",
    "\n",
    "#reset intial beta\n",
    "beta = np.zeros((np.shape(data)[1],1))\n",
    "\n",
    "#threshold = 0.65064\n",
    "l = grad(x_train,y_train,beta)\n",
    "o = obj(x_train,y_train,beta)\n",
    "p=0\n",
    "errors =[1]\n",
    "count = 0\n",
    "\n",
    "while 1:    \n",
    "    eta=1\n",
    "    while(obj(x_train,y_train,beta - eta*l)> (o - 1/2*eta*(np.sum(l*l)))):\n",
    "        eta = eta/2\n",
    "    \n",
    "    if 2**p == count:\n",
    "        y_hat=x_val.dot(beta)\n",
    "        np.place(y_hat, y_hat<=0, 0)\n",
    "        np.place(y_hat, y_hat>0, 1)\n",
    "        error = 1 - sum(y_hat.astype(int) == y_val)/len(y_val)\n",
    "        if (error > 0.99*(min(errors)) and count >=32):\n",
    "            break\n",
    "        p+=1\n",
    "        errors.append(error)\n",
    "    \n",
    "    beta = beta - eta*l\n",
    "    l = grad(x_train,y_train,beta)\n",
    "    o = obj(x_train,y_train,beta)\n",
    "    count += 1\n",
    "    \n",
    "print(\"Number of iterations: \", count, \"\\n\"\n",
    "      \"Validation error rate: \", error, '\\n'\n",
    "      \"Objective function value: \", o, \"\\n\")"
   ]
  },
  {
   "cell_type": "code",
   "execution_count": 790,
   "metadata": {},
   "outputs": [
    {
     "data": {
      "text/plain": [
       "array([0.36782662])"
      ]
     },
     "execution_count": 790,
     "metadata": {},
     "output_type": "execute_result"
    }
   ],
   "source": [
    "y_hat=x_train.dot(beta)\n",
    "np.place(y_hat, y_hat<=0, 0)\n",
    "np.place(y_hat, y_hat>0, 1)\n",
    "1 - sum(y_hat == y_train)/len(y_train)"
   ]
  },
  {
   "cell_type": "markdown",
   "metadata": {},
   "source": [
    "### linearly transformed data"
   ]
  },
  {
   "cell_type": "code",
   "execution_count": 653,
   "metadata": {
    "collapsed": true
   },
   "outputs": [],
   "source": [
    "sel = int(np.floor(0.8*np.shape(data)[0]))\n",
    "x_sc_train = data_sc[0:sel,:]\n",
    "y_train = labels[0:sel]\n",
    "x_sc_val = data_sc[sel:np.shape(data)[0],:]\n",
    "y_val = labels[sel:np.shape(data)[0]]"
   ]
  },
  {
   "cell_type": "code",
   "execution_count": 795,
   "metadata": {
    "scrolled": false
   },
   "outputs": [
    {
     "name": "stdout",
     "output_type": "stream",
     "text": [
      "Number of iterations:  32 \n",
      "Validation error rate:  [0.37926829] \n",
      "Objective function value:  0.6647592521378464 \n",
      "\n",
      "CPU times: user 54.1 ms, sys: 3 ms, total: 57.1 ms\n",
      "Wall time: 44.7 ms\n"
     ]
    }
   ],
   "source": [
    "#run the gradient descent algorithm on the linearly transformed data using stopping condition defined by part (d).\n",
    "\n",
    "beta = np.zeros((np.shape(data)[1],1))\n",
    "\n",
    "#threshold = 0.65064\n",
    "l = grad(x_sc_train,y_train,beta)\n",
    "o = obj(x_sc_train,y_train,beta)\n",
    "p=0\n",
    "errors =[1]\n",
    "count = 0\n",
    "\n",
    "while 1:\n",
    "    eta=1\n",
    "    while(obj(x_sc_train,y_train,beta - eta*l)> (o - 1/2*eta*(l.transpose()[0].dot(l)))):\n",
    "        eta = eta/2\n",
    "    \n",
    "    if 2**p == count:\n",
    "        y_hat=x_sc_val.dot(beta)\n",
    "        np.place(y_hat, y_hat<=0, 0)\n",
    "        np.place(y_hat, y_hat>0, 1)\n",
    "        error = 1 - sum(y_hat == y_val)/len(y_val)\n",
    "        if (error > 0.99*(min(errors)) and count >=32):\n",
    "            break\n",
    "        p+=1\n",
    "        errors.append(error)\n",
    "    \n",
    "    beta = beta - eta*l\n",
    "    l = grad(x_sc_train,y_train,beta)\n",
    "    o = obj(x_sc_train,y_train,beta)\n",
    "    count +=1\n",
    "    \n",
    "print(\"Number of iterations: \", count, \"\\n\"\n",
    "      \"Validation error rate: \", error, '\\n'\n",
    "      \"Objective function value: \", o, \"\\n\")"
   ]
  },
  {
   "cell_type": "code",
   "execution_count": 743,
   "metadata": {},
   "outputs": [
    {
     "data": {
      "text/plain": [
       "array([0.36721612])"
      ]
     },
     "execution_count": 743,
     "metadata": {},
     "output_type": "execute_result"
    }
   ],
   "source": [
    "#traning error rate\n",
    "y_hat=x_sc_train.dot(beta)\n",
    "np.place(y_hat, y_hat<=0, 0)\n",
    "np.place(y_hat, y_hat>0, 1)\n",
    "1 - sum(y_hat == y_train)/len(y_train)"
   ]
  }
 ],
 "metadata": {
  "kernelspec": {
   "display_name": "Python 3",
   "language": "python",
   "name": "python3"
  },
  "language_info": {
   "codemirror_mode": {
    "name": "ipython",
    "version": 3
   },
   "file_extension": ".py",
   "mimetype": "text/x-python",
   "name": "python",
   "nbconvert_exporter": "python",
   "pygments_lexer": "ipython3",
   "version": "3.6.2"
  }
 },
 "nbformat": 4,
 "nbformat_minor": 2
}
