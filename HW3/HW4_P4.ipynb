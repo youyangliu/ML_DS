{
 "cells": [
  {
   "cell_type": "code",
   "execution_count": 52,
   "metadata": {},
   "outputs": [
    {
     "name": "stdout",
     "output_type": "stream",
     "text": [
      "8.200524349283208\n",
      "[0.01719255] [0.38280392] [-0.04976723]\n"
     ]
    }
   ],
   "source": [
    "import numpy as np\n",
    "from scipy.io import loadmat\n",
    "data = loadmat('hw3data.mat')\n",
    "import pandas as pd\n",
    "from sklearn import preprocessing\n",
    "\n",
    "\n",
    "############################  realization of soft_svm function  ############################\n",
    "def SSVM(n, c, cir, X, y):\n",
    "    \n",
    "    alpha = np.zeros((n,1))\n",
    "    K = np.matmul(X, X.transpose())\n",
    "    \n",
    "    ######  calculate the value of alpha  ######\n",
    "    for m in range(cir):\n",
    "        for i in range(n):\n",
    "            \n",
    "            bound = (1 - 2 * y[i] * (np.matmul(K[i, :],np.multiply(alpha, y)) \n",
    "                                - (K[i,i]*alpha[i]*y[i])))/(2 * y[i] * y[i] * K[i,i])\n",
    "            \n",
    "            if c <= bound:\n",
    "                alpha[i] = c\n",
    "            elif 0 >= bound:\n",
    "                alpha[i] = 0\n",
    "            else:\n",
    "                alpha[i] = bound\n",
    "                \n",
    "    ######  calculate the value of object value  ######    \n",
    "    obj = np.sum(alpha)\n",
    "    obj -= sum(sum(np.multiply(np.matmul(np.multiply(y, alpha), \n",
    "                                         np.multiply(y, alpha).transpose()),\n",
    "                               np.matmul(X, X.transpose()))))\n",
    "    \n",
    "    return alpha, obj\n",
    "\n",
    "\n",
    "\n",
    "############################  standerization and clean the input data  ############################\n",
    "x = data['data']\n",
    "y = np.int8(data['labels'])\n",
    "y[y == 0] = -1\n",
    "\n",
    "\n",
    "######  set parameters  ######\n",
    "n = len(y)\n",
    "c = 10.0/n\n",
    "cir = 2\n",
    "\n",
    "######  standerization  ######\n",
    "X_rescaled = preprocessing.scale(x)\n",
    "\n",
    "\n",
    "######  get the object value of data  ######\n",
    "alpha, obj = SSVM(n, c, cir, X_rescaled, y)\n",
    "print (obj)\n",
    "\n",
    "\n",
    "######  get the weight value of data  ######\n",
    "w1, w2, w3 = 0,0,0\n",
    "for i in range(n):\n",
    "    w1 += alpha[i]* y[i]* X_rescaled[i, 0]\n",
    "    w2 += alpha[i]* y[i]* X_rescaled[i, 1]\n",
    "    w3 += alpha[i]* y[i]* X_rescaled[i, 2]\n",
    "print(w1, w2, w3) \n",
    "\n"
   ]
  },
  {
   "cell_type": "code",
   "execution_count": null,
   "metadata": {},
   "outputs": [],
   "source": []
  }
 ],
 "metadata": {
  "kernelspec": {
   "display_name": "Python 3",
   "language": "python",
   "name": "python3"
  },
  "language_info": {
   "codemirror_mode": {
    "name": "ipython",
    "version": 3
   },
   "file_extension": ".py",
   "mimetype": "text/x-python",
   "name": "python",
   "nbconvert_exporter": "python",
   "pygments_lexer": "ipython3",
   "version": "3.6.4"
  }
 },
 "nbformat": 4,
 "nbformat_minor": 2
}
