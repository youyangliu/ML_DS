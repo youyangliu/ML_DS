{
 "cells": [
  {
   "cell_type": "code",
   "execution_count": 151,
   "metadata": {},
   "outputs": [],
   "source": [
    "import numpy as np\n",
    "import pandas as pd\n",
    "import sklearn\n",
    "import random\n",
    "import scipy\n",
    "import sklearn\n",
    "import math"
   ]
  },
  {
   "cell_type": "code",
   "execution_count": 152,
   "metadata": {},
   "outputs": [],
   "source": [
    "features = ['age',  #: continuous.\n",
    "            'workclass',\n",
    "            #: Private, Self-emp-not-inc, Self-emp-inc, Federal-gov, Local-gov, State-gov, Without-pay, Never-worked.\n",
    "            'fnlwgt',  #: continuous.\n",
    "            'education',\n",
    "            #: Bachelors, Some-college, 11th, HS-grad, Prof-school, Assoc-acdm, Assoc-voc, 9th, 7th-8th, 12th, Masters, 1st-4th, 10th, Doctorate, 5th-6th, Preschool.\n",
    "            'education-num',  #: continuous.\n",
    "            'marital-status',\n",
    "            #: Married-civ-spouse, Divorced, Never-married, Separated, Widowed, Married-spouse-absent, Married-AF-spouse.\n",
    "            'occupation',\n",
    "            #: Tech-support, Craft-repair, Other-service, Sales, Exec-managerial, Prof-specialty, Handlers-cleaners, Machine-op-inspct, Adm-clerical, Farming-fishing, Transport-moving, Priv-house-serv, Protective-serv, Armed-Forces.\n",
    "            'relationship',  #: Wife, Own-child, Husband, Not-in-family, Other-relative, Unmarried.\n",
    "            'race',  #: White, Asian-Pac-Islander, Amer-Indian-Eskimo, Other, Black.\n",
    "            'sex',  #: Female, Male.\n",
    "            'capital-gain',  #: continuous.\n",
    "            'capital-loss',  #: continuous.\n",
    "            'hours-per-week',  #: continuous.\n",
    "            'native-country',\n",
    "            #: United-States, Cambodia, England, Puerto-Rico, Canada, Germany, Outlying-US(Guam-USVI-etc), India, Japan, Greece, South, China, Cuba, Iran, Honduras, Philippines, Italy, Poland, Jamaica, Vietnam, Mexico, Portugal, Ireland, France, Dominican-Republic, Laos, Ecuador, Taiwan, Haiti, Columbia, Hungary, Guatemala, Nicaragua, Scotland, Thailand, Yugoslavia, El-Salvador, Trinadad&Tobago, Peru, Hong, Holand-Netherlands.]\n",
    "            'target']\n",
    "category = ['workclass','education','marital-status','occupation','relationship','race','sex', 'native-country']"
   ]
  },
  {
   "cell_type": "code",
   "execution_count": 153,
   "metadata": {},
   "outputs": [],
   "source": [
    "train_data = pd.read_csv('adult-new.data',header = None, names=features)\n",
    "train_target = train_data.target\n",
    "train_data = train_data[features[:-1]]\n",
    "\n",
    "test_data = pd.read_csv('adult-new.test',header = None, names=features)\n",
    "test_target = test_data.target\n",
    "test_data = test_data[features[:-1]]\n"
   ]
  },
  {
   "cell_type": "code",
   "execution_count": 154,
   "metadata": {},
   "outputs": [],
   "source": [
    "train_data_dummies = pd.get_dummies(train_data,columns = category)\n",
    "test_data_dummies = pd.get_dummies(test_data,columns = category)"
   ]
  },
  {
   "cell_type": "code",
   "execution_count": 149,
   "metadata": {},
   "outputs": [],
   "source": []
  },
  {
   "cell_type": "code",
   "execution_count": null,
   "metadata": {},
   "outputs": [],
   "source": []
  },
  {
   "cell_type": "code",
   "execution_count": 155,
   "metadata": {},
   "outputs": [],
   "source": [
    "for col in train_data_dummies.columns:\n",
    "    if col not in test_data_dummies.columns:\n",
    "        test_data_dummies[col] = 0"
   ]
  },
  {
   "cell_type": "code",
   "execution_count": 156,
   "metadata": {},
   "outputs": [],
   "source": [
    "test_female_dummies = test_data_dummies[test_data_dummies['sex_ Female']==1]\n",
    "test_male_dummies = test_data_dummies[test_data_dummies['sex_ Male']==1]\n",
    "female = list(test_female_dummies.index.values)\n",
    "male = list(test_male_dummies.index.values)"
   ]
  },
  {
   "cell_type": "code",
   "execution_count": 157,
   "metadata": {},
   "outputs": [],
   "source": [
    "train_target = train_target.replace(' >50K',1)\n",
    "train_target = train_target.replace(' <=50K',0)\n",
    "test_target = test_target.replace(' >50K',1)\n",
    "test_target = test_target.replace(' <=50K',0)\n",
    "test_female_target = test_target[female]\n",
    "test_male_target = test_target[male]"
   ]
  },
  {
   "cell_type": "code",
   "execution_count": null,
   "metadata": {},
   "outputs": [],
   "source": []
  },
  {
   "cell_type": "code",
   "execution_count": 58,
   "metadata": {},
   "outputs": [],
   "source": [
    "from sklearn.linear_model import LogisticRegression\n",
    "from sklearn.ensemble import RandomForestClassifier\n",
    "from sklearn.ensemble import GradientBoostingClassifier"
   ]
  },
  {
   "cell_type": "code",
   "execution_count": 53,
   "metadata": {},
   "outputs": [],
   "source": [
    "from sklearn.model_selection import cross_val_score\n",
    "from sklearn.model_selection import GridSearchCV"
   ]
  },
  {
   "cell_type": "code",
   "execution_count": 59,
   "metadata": {},
   "outputs": [
    {
     "name": "stdout",
     "output_type": "stream",
     "text": [
      "10\n"
     ]
    }
   ],
   "source": [
    "models = {'LR':LogisticRegression(),\n",
    "         'RF':RandomForestClassifier(n_estimators=150),\n",
    "         'GB':GradientBoostingClassifier()}\n",
    "\n",
    "n_features = int(math.sqrt(train_data_dummies.shape[1]))\n",
    "\n",
    "parameter_choice = {'LR':{'C':[0.001,0.01,0.1,1,10,100]},\n",
    "         'RF':{'max_features':[n_features-5,n_features,n_features+5,n_features+10]},\n",
    "         'GB':{'max_depth':[3,5,7]}}\n",
    "\n",
    "grid_result = {}"
   ]
  },
  {
   "cell_type": "code",
   "execution_count": 60,
   "metadata": {},
   "outputs": [
    {
     "name": "stdout",
     "output_type": "stream",
     "text": [
      "LR's raw data score is: 0.7978563311937594\n",
      "RF's raw data score is: 0.8547649027978256\n",
      "GB's raw data score is: 0.8715641411504561\n"
     ]
    }
   ],
   "source": [
    "for model in models:\n",
    "    grid = GridSearchCV(models[model], parameter_choice[model],return_train_score=True)\n",
    "    grid.fit(train_data_dummies,train_target)\n",
    "\n",
    "    grid_result[model] = {'best_params_':grid.best_params_,\n",
    "                            'best_score_':grid.best_score_,\n",
    "                            'best_estimator_':grid.best_estimator_,\n",
    "                            'cv_results':pd.DataFrame(grid.cv_results_)}"
   ]
  },
  {
   "cell_type": "code",
   "execution_count": 51,
   "metadata": {},
   "outputs": [
    {
     "data": {
      "text/plain": [
       "array([0.85766928, 0.85613389, 0.85168125, 0.84641376, 0.85194287])"
      ]
     },
     "execution_count": 51,
     "metadata": {},
     "output_type": "execute_result"
    }
   ],
   "source": [
    "# cross_val_score(RandomForestClassifier(n_estimators=150),train_data_dummies,train_target,cv = 5)"
   ]
  },
  {
   "cell_type": "code",
   "execution_count": 12,
   "metadata": {},
   "outputs": [
    {
     "data": {
      "text/plain": [
       "array([0.79947797, 0.79487179, 0.8003992 , 0.79649823, 0.79941637])"
      ]
     },
     "execution_count": 12,
     "metadata": {},
     "output_type": "execute_result"
    }
   ],
   "source": [
    "# cross_val_score(LogisticRegression(),train_data_dummies,train_target,cv = 5)"
   ]
  },
  {
   "cell_type": "code",
   "execution_count": 13,
   "metadata": {},
   "outputs": [
    {
     "data": {
      "text/plain": [
       "array([0.83847689, 0.84507907, 0.83939813, 0.83228383, 0.84533866])"
      ]
     },
     "execution_count": 13,
     "metadata": {},
     "output_type": "execute_result"
    }
   ],
   "source": [
    "# cross_val_score(RidgeClassifier(),train_data_dummies,train_target,cv = 5)"
   ]
  },
  {
   "cell_type": "code",
   "execution_count": 175,
   "metadata": {},
   "outputs": [
    {
     "name": "stdout",
     "output_type": "stream",
     "text": [
      "LR train score 0.20214366880624057\n",
      "LR test score 0.20170751182359803\n",
      "RF train score 6.142317496393712e-05\n",
      "RF test score 0.13832074196916655\n",
      "GB train score 0.10282239488959188\n",
      "GB test score 0.1315644002211166\n"
     ]
    }
   ],
   "source": [
    "for model in grid_result:\n",
    "    print(model,'train score',1-grid_result[model]['best_estimator_'].score(train_data_dummies,train_target))\n",
    "    print(model,'test score',1-grid_result[model]['best_estimator_'].score(test_data_dummies,test_target))"
   ]
  },
  {
   "cell_type": "code",
   "execution_count": 63,
   "metadata": {},
   "outputs": [
    {
     "data": {
      "text/plain": [
       "0.8616792580308335"
      ]
     },
     "execution_count": 63,
     "metadata": {},
     "output_type": "execute_result"
    }
   ],
   "source": [
    "grid_result['RF']['best_estimator_'].score(test_data_dummies,test_target)"
   ]
  },
  {
   "cell_type": "code",
   "execution_count": 64,
   "metadata": {},
   "outputs": [
    {
     "data": {
      "text/plain": [
       "0.798292488176402"
      ]
     },
     "execution_count": 64,
     "metadata": {},
     "output_type": "execute_result"
    }
   ],
   "source": [
    "grid_result['LR']['best_estimator_'].score(test_data_dummies,test_target)"
   ]
  },
  {
   "cell_type": "code",
   "execution_count": 165,
   "metadata": {},
   "outputs": [],
   "source": [
    "def rate(classifier,testdata,testtarget):\n",
    "    prediction = classifier.predict(testdata)\n",
    "    wholeset = set(range(len(testdata)))\n",
    "#     print(wholeset)\n",
    "    predict_positive = {i for i in np.nonzero(prediction)[0]}\n",
    "    real_positive = {i for i in  np.nonzero(testtarget)[0]}\n",
    "    true_positive_rate = len(predict_positive & real_positive)/len(real_positive)\n",
    "    \n",
    "    predict_negative = wholeset-predict_positive\n",
    "    real_negative = wholeset - real_positive\n",
    "    \n",
    "    false_positive_rate = len(real_negative&predict_positive)/len(real_negative)\n",
    "#     print('False Positive Rate of:',false_positive_rate)\n",
    "    false_negative_rate = 1- true_positive_rate\n",
    "#     print('False Negative Rate:',false_negative_rate)\n",
    "    return(false_positive_rate,false_negative_rate)\n",
    "    "
   ]
  },
  {
   "cell_type": "code",
   "execution_count": 166,
   "metadata": {},
   "outputs": [
    {
     "data": {
      "text/plain": [
       "(0.048101673101673105, 0.4011431540659912)"
      ]
     },
     "execution_count": 166,
     "metadata": {},
     "output_type": "execute_result"
    }
   ],
   "source": [
    "rate(grid_result['GB']['best_estimator_'],test_data_dummies,test_target)"
   ]
  },
  {
   "cell_type": "code",
   "execution_count": 177,
   "metadata": {},
   "outputs": [
    {
     "name": "stdout",
     "output_type": "stream",
     "text": [
      "female_data LR False Positive, False Negative (0.031237070748862224, 0.7408056042031523)\n",
      "female_data RF False Positive, False Negative (0.019031857674803476, 0.46760070052539404)\n",
      "female_data GB False Positive, False Negative (0.01779064956557716, 0.4623467600700525)\n"
     ]
    }
   ],
   "source": [
    "for model in grid_result:\n",
    "    print('female_data',model,'False Positive, False Negative',rate(grid_result[model]['best_estimator_'],test_female_dummies,test_female_target))"
   ]
  },
  {
   "cell_type": "code",
   "execution_count": 170,
   "metadata": {},
   "outputs": [
    {
     "name": "stdout",
     "output_type": "stream",
     "text": [
      "male_data LR False Positive, False Negative (0.036193735193471965, 0.7428309945088469)\n",
      "male_data RF False Positive, False Negative (0.07962621742563833, 0.3929225137278829)\n",
      "male_data GB False Positive, False Negative (0.06738615425111871, 0.3904820012202562)\n"
     ]
    }
   ],
   "source": [
    "for model in grid_result:\n",
    "    print('male_data',model,'False Positive, False Negative',rate(grid_result[model]['best_estimator_'],test_male_dummies,test_male_target))"
   ]
  },
  {
   "cell_type": "code",
   "execution_count": null,
   "metadata": {},
   "outputs": [],
   "source": []
  }
 ],
 "metadata": {
  "kernelspec": {
   "display_name": "Python 3",
   "language": "python",
   "name": "python3"
  },
  "language_info": {
   "codemirror_mode": {
    "name": "ipython",
    "version": 3
   },
   "file_extension": ".py",
   "mimetype": "text/x-python",
   "name": "python",
   "nbconvert_exporter": "python",
   "pygments_lexer": "ipython3",
   "version": "3.6.2"
  }
 },
 "nbformat": 4,
 "nbformat_minor": 2
}
